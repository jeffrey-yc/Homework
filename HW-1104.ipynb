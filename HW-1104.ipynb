{
 "cells": [
  {
   "cell_type": "code",
   "execution_count": 68,
   "metadata": {},
   "outputs": [],
   "source": [
    "#上映日期 u 類 型 u 片 長 u 導 演 u 演 員 u 發行公司 u 官方網站 u 劇情介紹\n",
    "import pandas as pd\n",
    "import requests as rq\n",
    "from bs4 import BeautifulSoup"
   ]
  },
  {
   "cell_type": "code",
   "execution_count": 69,
   "metadata": {},
   "outputs": [],
   "source": [
    "url = \"https://movies.yahoo.com.tw/movieinfo_main/%E9%BB%91%E8%B1%B9-black-panther-6953\"\n",
    "response = rq.get(url) # 用 requests 的 get 方法把網頁抓下來\n",
    "html_doc = response.text # text 屬性就是 html 檔案\n",
    "soup = BeautifulSoup(response.text, \"lxml\") # 指定 lxml 作為解析器\n",
    "\n",
    "movietitlescn= []   #電影名稱(中)\n",
    "movietitlesen= []   #電影名稱(英)\n",
    "post_dates = []     #上映日期\n",
    "categories = []     # 類型\n",
    "times =[]           # 片長\n",
    "directors = []      # 導演\n",
    "actors = []         # 演員\n",
    "companies = []      # 公司\n",
    "contents = []       # 劇情介紹\n",
    "    "
   ]
  },
  {
   "cell_type": "code",
   "execution_count": 70,
   "metadata": {},
   "outputs": [],
   "source": [
    "movietitlescn.append(soup.select_one(\".movie_intro_info_r h1\").text)\n",
    "movietitlesen.append(soup.select_one(\".movie_intro_info_r h3\").text)\n",
    "for i in soup.select(\".level_name a\"):\n",
    "    categories.append(i.text.strip())\n",
    "post_dates.append(soup.select(\".movie_intro_info_r span\")[0].text)\n",
    "times.append(soup.select(\".movie_intro_info_r span\")[1].text)\n",
    "companies.append(soup.select(\".movie_intro_info_r span\")[2].text)\n",
    "directors.append(soup.select(\".movie_intro_list\")[0].text.strip())\n",
    "actors.append(soup.select(\".movie_intro_list\")[1].text)\n",
    "contents.append(soup.select_one(\".gray_infobox_inner span\").text)\n",
    "\n",
    "\n"
   ]
  },
  {
   "cell_type": "code",
   "execution_count": 71,
   "metadata": {},
   "outputs": [
    {
     "data": {
      "text/plain": [
       "{'電影名稱(中)': ['黑豹'],\n",
       " '電影名稱(英)': ['Black Panther'],\n",
       " '類型': ['上映日期：2018-02-13'],\n",
       " '上映日期': ['動作', '奇幻'],\n",
       " '片長': ['片\\u3000\\u3000長：02時15分'],\n",
       " '發行公司': ['發行公司：迪士尼'],\n",
       " '導演': ['萊恩庫格勒(Ryan Coogler)'],\n",
       " '演員': [\"\\n                                                \\n                                      安琪拉貝瑟(Angela Bassett)\\n                                                    、\\n                                      佛瑞斯特懷特克(Forest Whitaker)\\n                                                    、\\n                                      安迪瑟克斯\\n                                                    、\\n                                      戴娜葛瑞拉\\n                                                    、\\n                                      丹尼爾卡盧亞(Daniel Kaluuya)\\n                                                    、\\n                                      露琵塔尼詠歐(Lupita Nyong'o)\\n                                                    、\\n                                      馬汀弗里曼\\n                                                    、\\n                                      麥可B喬丹(Michael B. Jordan)\\n                                                    、\\n                                      查維克博斯曼(Chadwick Boseman)\\n\"],\n",
       " '劇情介紹': ['\\n            《黑豹》的故事將接續在《美國隊長3：英雄內戰》之後，帝查拉返回擁有先進科技卻與世隔絕的瓦干達接下王位。 然而積怨已久的宿敵再度出現，將他捲入一場波及瓦干達全國甚至全世界安危的巨大紛爭中，帝查拉身為國王和黑豹的勇氣和能力將受到最嚴峻的挑戰。  《黑豹》將由凱文費奇擔任製作人，史丹李、路易斯狄波斯多、維多利亞阿隆索、奈特摩爾、傑佛瑞車諾夫擔任監製。 黑豹第一次出現在1966年出版的漫威漫畫「驚奇四超人第一部」第52期，《黑豹》加入漫威電影宇宙的第三階段，將帶給觀眾更多的新英雄和冒險。黑豹由查維克博斯曼擔綱演出。其他演員卡司包括《新世紀福爾摩斯》馬汀弗里曼、《金牌拳手》麥可·B·喬丹、 以《自由之心》獲得奧斯卡最佳女配角獎的露琵塔尼詠歐、 《陰屍路》戴娜葛瑞拉、 《怒火邊界》丹尼爾卡盧亞、 《美國恐怖故事》安琪拉貝瑟、以《最後的蘇格蘭王》獲得奧斯卡影帝的佛瑞斯惠塔克以及 《猩球崛起》安迪瑟克斯均加入陣容。 《黑豹》由曾執導《金牌拳手》的萊恩庫格勒擔任導演，編劇則由萊恩與編寫知名影集《美國犯罪故事》的喬羅伯科恩共同創作。本片將在亞特蘭大以及南韓拍攝，將於2018年2月13日搶先美國在台上映。\\n          ']}"
      ]
     },
     "execution_count": 71,
     "metadata": {},
     "output_type": "execute_result"
    }
   ],
   "source": [
    "\n",
    "movie_dict = {  '電影名稱(中)': movietitlescn,\n",
    "                '電影名稱(英)':movietitlesen,\n",
    "                '類型':post_dates, \n",
    "                '上映日期':categories, \n",
    "                '片長':times, \n",
    "                '發行公司':companies, \n",
    "                '導演':directors, \n",
    "                '演員':actors, \n",
    "                '劇情介紹':contents\n",
    "}\n",
    "movie_dict\n"
   ]
  },
  {
   "cell_type": "code",
   "execution_count": 72,
   "metadata": {},
   "outputs": [
    {
     "data": {
      "text/html": [
       "<div>\n",
       "<style scoped>\n",
       "    .dataframe tbody tr th:only-of-type {\n",
       "        vertical-align: middle;\n",
       "    }\n",
       "\n",
       "    .dataframe tbody tr th {\n",
       "        vertical-align: top;\n",
       "    }\n",
       "\n",
       "    .dataframe thead th {\n",
       "        text-align: right;\n",
       "    }\n",
       "</style>\n",
       "<table border=\"1\" class=\"dataframe\">\n",
       "  <thead>\n",
       "    <tr style=\"text-align: right;\">\n",
       "      <th></th>\n",
       "      <th>電影名稱(中)</th>\n",
       "      <th>電影名稱(英)</th>\n",
       "      <th>類型</th>\n",
       "      <th>上映日期</th>\n",
       "      <th>片長</th>\n",
       "      <th>發行公司</th>\n",
       "      <th>導演</th>\n",
       "      <th>演員</th>\n",
       "      <th>劇情介紹</th>\n",
       "    </tr>\n",
       "  </thead>\n",
       "  <tbody>\n",
       "    <tr>\n",
       "      <th>0</th>\n",
       "      <td>[黑豹]</td>\n",
       "      <td>[Black Panther]</td>\n",
       "      <td>[上映日期：2018-02-13]</td>\n",
       "      <td>[動作, 奇幻]</td>\n",
       "      <td>[片　　長：02時15分]</td>\n",
       "      <td>[發行公司：迪士尼]</td>\n",
       "      <td>[萊恩庫格勒(Ryan Coogler)]</td>\n",
       "      <td>[\\n                                           ...</td>\n",
       "      <td>[\\n            《黑豹》的故事將接續在《美國隊長3：英雄內戰》之後，帝查拉返回...</td>\n",
       "    </tr>\n",
       "  </tbody>\n",
       "</table>\n",
       "</div>"
      ],
      "text/plain": [
       "  電影名稱(中)          電影名稱(英)                 類型      上映日期             片長  \\\n",
       "0    [黑豹]  [Black Panther]  [上映日期：2018-02-13]  [動作, 奇幻]  [片　　長：02時15分]   \n",
       "\n",
       "         發行公司                     導演  \\\n",
       "0  [發行公司：迪士尼]  [萊恩庫格勒(Ryan Coogler)]   \n",
       "\n",
       "                                                  演員  \\\n",
       "0  [\\n                                           ...   \n",
       "\n",
       "                                                劇情介紹  \n",
       "0  [\\n            《黑豹》的故事將接續在《美國隊長3：英雄內戰》之後，帝查拉返回...  "
      ]
     },
     "execution_count": 72,
     "metadata": {},
     "output_type": "execute_result"
    }
   ],
   "source": [
    "yahoo_movie_frame = pd.DataFrame([movie_dict])\n",
    "\n",
    "\n",
    "df=yahoo_movie_frame.reindex(columns=['電影名稱(中)','電影名稱(英)', '類型', '上映日期', '片長', '發行公司', '導演', '演員', '劇情介紹'])\n",
    "\n",
    "df\n"
   ]
  },
  {
   "cell_type": "code",
   "execution_count": null,
   "metadata": {},
   "outputs": [],
   "source": []
  },
  {
   "cell_type": "code",
   "execution_count": null,
   "metadata": {},
   "outputs": [],
   "source": []
  }
 ],
 "metadata": {
  "kernelspec": {
   "display_name": "Python 3",
   "language": "python",
   "name": "python3"
  },
  "language_info": {
   "codemirror_mode": {
    "name": "ipython",
    "version": 3
   },
   "file_extension": ".py",
   "mimetype": "text/x-python",
   "name": "python",
   "nbconvert_exporter": "python",
   "pygments_lexer": "ipython3",
   "version": "3.6.5"
  }
 },
 "nbformat": 4,
 "nbformat_minor": 2
}
