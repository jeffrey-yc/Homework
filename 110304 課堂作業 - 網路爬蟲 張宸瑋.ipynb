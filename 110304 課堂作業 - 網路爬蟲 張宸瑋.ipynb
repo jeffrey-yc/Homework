{
 "cells": [
  {
   "cell_type": "code",
   "execution_count": null,
   "metadata": {},
   "outputs": [],
   "source": [
    "import json\n",
    "import requests\n",
    "import pandas as pd\n",
    "from sqlalchemy import create_engine\n",
    "\n",
    "req = requests.get('http://tw.movies.yahoo.com/movieinfo_main.html/id=5644/AQI.json')\n",
    "data = json.loads(req.content.decode('utf8'))\n",
    "df = pd.DataFrame(data)\n",
    "\n",
    "engine = create_engine('sqlite:///:memory:')\n",
    "df.to_sql('db_table', engine, index=False)\n",
    "print(pd.read_sql_query('SELECT `Release Date` as `上映日期`, `Genres` as `類型`, \\\n",
    "Run Time as `片長`, `Director` as `導演`, , `Actors` as `演員`, `Distribution Corporation` as `發行公司`, \\\n",
    ", `Official Website` as `官方網站`, `Synopsis` as `劇情介紹`, FROM `db_table` \\\n",
    "order by CAST(`MOVIE` AS int) DESC', engine))"
   ]
  }
 ],
 "metadata": {
  "kernelspec": {
   "display_name": "Python 3",
   "language": "python",
   "name": "python3"
  },
  "language_info": {
   "codemirror_mode": {
    "name": "ipython",
    "version": 3
   },
   "file_extension": ".py",
   "mimetype": "text/x-python",
   "name": "python",
   "nbconvert_exporter": "python",
   "pygments_lexer": "ipython3",
   "version": "3.7.0"
  }
 },
 "nbformat": 4,
 "nbformat_minor": 2
}
