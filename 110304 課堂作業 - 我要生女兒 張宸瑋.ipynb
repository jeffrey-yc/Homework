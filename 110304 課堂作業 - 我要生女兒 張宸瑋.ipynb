{
 "cells": [
  {
   "cell_type": "code",
   "execution_count": null,
   "metadata": {},
   "outputs": [],
   "source": [
    "prob(girl.born) = 0.49\n",
    "prob(boy.born) = 0.51\n",
    "\n",
    "import random\n",
    "a = random.randrange(0, 100, 1) \n",
    "\n",
    "if a > 48 :\n",
    "    return child.count==1\n",
    "elif a > 48 and child.count==1 :\n",
    "    return child.count+1\n",
    "elif a > 48 and child.count==2 :\n",
    "    return child.count+1\n",
    "elif child.count==3 :\n",
    "    print('end')\n",
    "else a < 48 :\n",
    "    print('girl.born')\n",
    "    "
   ]
  }
 ],
 "metadata": {
  "kernelspec": {
   "display_name": "Python 3",
   "language": "python",
   "name": "python3"
  },
  "language_info": {
   "codemirror_mode": {
    "name": "ipython",
    "version": 3
   },
   "file_extension": ".py",
   "mimetype": "text/x-python",
   "name": "python",
   "nbconvert_exporter": "python",
   "pygments_lexer": "ipython3",
   "version": "3.7.0"
  }
 },
 "nbformat": 4,
 "nbformat_minor": 2
}
