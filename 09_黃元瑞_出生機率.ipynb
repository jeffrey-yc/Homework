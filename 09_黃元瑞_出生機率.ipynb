{
 "cells": [
  {
   "cell_type": "markdown",
   "metadata": {},
   "source": [
    "# 用Python程式模擬算機率：我們要生女兒\n",
    "一對夫婦計劃生孩子生到有女兒才停，或生了三個就停止。 他們會擁有女兒的機率是多少？ \n",
    "\n",
    "第l 步：機率模型 <br /> \n",
    ">每一個孩子是女孩的機率是0.49 ，是男孩的機率是0.51。 各個孩子的性別是互相獨立的。 \n",
    "\n",
    "第2 步：分配隨機數字 \n",
    ">用兩個數字模擬一個孩子的性別:00, 01, 02, …, 48 ＝女孩; 49, 50, 51, …, 99 ＝男孩 \n",
    "\n",
    "第3 步：模擬生孩子策略 \n",
    ">從表A當中讀取一對一對的數字，直到這對夫婦有了女兒，或已有三個孩子。\n",
    "    \n",
    "10次重複中，有9次生女孩。會得到女孩的機率的估計是9/10=0.9。 \n",
    "\n",
    "如果機率模型正確的話，用數學計算會有女孩的真正機率是0.867。\n",
    "(我們的模 擬答案相當接近了。除非這對夫婦運氣很不好，他們應該可以成功擁有一個女 兒。)\n"
   ]
  },
  {
   "cell_type": "code",
   "execution_count": 7,
   "metadata": {},
   "outputs": [
    {
     "name": "stdout",
     "output_type": "stream",
     "text": [
      "1 : (22)女+\n",
      "2 : (50)男(0)女+\n",
      "3 : (2)女+\n",
      "4 : (8)女+\n",
      "5 : (87)男(49)男(44)女+\n",
      "6 : (55)男(21)女+\n",
      "7 : (99)男(89)男(65)男\n",
      "8 : (0)女+\n",
      "9 : (97)男(99)男(47)女+\n",
      "10 : (57)男(92)男(11)女+\n",
      "10次的機率(顯示過程)：0.9\n",
      "\n",
      "\n",
      "1000次的機率(不顯示過程)：0.868\n"
     ]
    }
   ],
   "source": [
    "import random \n",
    "\n",
    "def gril_born(n, show_id = False):\n",
    "    gril_count = 0\n",
    "    for i in range(n):       \n",
    "        idstr = str(i+1) + \" : \"\n",
    "        val = random.sample(range(0,100), 3)\n",
    "        for rn in val:                   \n",
    "            idstr += \"(%d)\" % rn              \n",
    "            if rn <= 48 :\n",
    "                gril_count += 1                 \n",
    "                idstr += \"女+\"\n",
    "                break\n",
    "            else:                 \n",
    "                idstr += \"男\"\n",
    "        if show_id : \n",
    "            print (idstr)   \n",
    "    return round(gril_count / n,4)    \n",
    "\n",
    "print (\"10次的機率(顯示過程)：\" + str(gril_born(10,True))) \n",
    "print (\"\\n\")\n",
    "print (\"1000次的機率(不顯示過程)：\" + str (gril_born(1000,False)))"
   ]
  }
 ],
 "metadata": {
  "kernelspec": {
   "display_name": "Python 3",
   "language": "python",
   "name": "python3"
  },
  "language_info": {
   "codemirror_mode": {
    "name": "ipython",
    "version": 3
   },
   "file_extension": ".py",
   "mimetype": "text/x-python",
   "name": "python",
   "nbconvert_exporter": "python",
   "pygments_lexer": "ipython3",
   "version": "3.7.1"
  }
 },
 "nbformat": 4,
 "nbformat_minor": 2
}
