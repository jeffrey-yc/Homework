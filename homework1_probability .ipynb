{
 "cells": [
  {
   "cell_type": "markdown",
   "metadata": {},
   "source": [
    "# 機率分布-生女兒的機率\n",
    "\n",
    "### 一對夫婦計劃生孩子生到有女兒才停,或生了三個就停止。他們會擁有女兒的機率是多少?\n",
    "<ul>\n",
    "    <li>Step1:機率模型</li>\n",
    "    每一個孩子是女孩的機率是0.49 ,是男孩的機率是0.51。各個孩子的性別是互相獨立的。\n",
    "    <li>Step2:n次試行</li>\n",
    "    計算n次試行中，女孩的比例。每次試行停止於,直到這對夫婦有了女兒,或已有三個孩子。\n",
    "</ul>\n",
    "### 如果機率模型正確的話,用數學計算會有女孩的真正機率是0.867。(我們的模擬答案相當接近了。除非這對夫婦運氣很不好,他們應該可以成功擁有一個女兒。)"
   ]
  },
  {
   "cell_type": "code",
   "execution_count": 2,
   "metadata": {},
   "outputs": [],
   "source": [
    "import random\n",
    "def girl_born(n, show= False):\n",
    "    \"\"\"\n",
    "    0:girl\n",
    "    1:boy\n",
    "    \n",
    "    \"\"\"\n",
    "    list_result=[]\n",
    "    GB = [0,1]\n",
    "    gall_count=0\n",
    "    for i in range(n):\n",
    "        item=[]\n",
    "        for __ in range(3):\n",
    "            born = random.choices(GB,[49,51])\n",
    "            if born[0]!=0:\n",
    "                item.append(\"(\"+str(born[0])+\")\"+'boy')\n",
    "                list_result.append(item)\n",
    "            else:\n",
    "                item.append(\"(\"+str(born[0])+\")\"+'girl')\n",
    "                list_result.append(item)\n",
    "                gall_count+=1\n",
    "                break\n",
    "    if show:\n",
    "        return list_result, gall_count/n\n",
    "    else:\n",
    "        return gall_count/n"
   ]
  },
  {
   "cell_type": "markdown",
   "metadata": {},
   "source": [
    "### girl_born(n,show):n為n次試行；show為是否呈現所有試行結果，預設為False"
   ]
  },
  {
   "cell_type": "code",
   "execution_count": 6,
   "metadata": {},
   "outputs": [
    {
     "data": {
      "text/plain": [
       "0.85"
      ]
     },
     "execution_count": 6,
     "metadata": {},
     "output_type": "execute_result"
    }
   ],
   "source": [
    "girl_born(100)"
   ]
  }
 ],
 "metadata": {
  "kernelspec": {
   "display_name": "Python 3",
   "language": "python",
   "name": "python3"
  },
  "language_info": {
   "codemirror_mode": {
    "name": "ipython",
    "version": 3
   },
   "file_extension": ".py",
   "mimetype": "text/x-python",
   "name": "python",
   "nbconvert_exporter": "python",
   "pygments_lexer": "ipython3",
   "version": "3.6.5"
  }
 },
 "nbformat": 4,
 "nbformat_minor": 2
}
